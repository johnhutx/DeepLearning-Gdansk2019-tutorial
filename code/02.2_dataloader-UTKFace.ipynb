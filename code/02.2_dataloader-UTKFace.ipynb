{
 "cells": [
  {
   "cell_type": "markdown",
   "metadata": {},
   "source": [
    "[Deep Learning Summer School 2019](http://2019.dl-lab.eu) in Gdansk, Poland  \n",
    "Ordinal Regression Tutorial by [Sebastian Raschka](https://sebastianraschka.com)  \n",
    "GitHub Repository: https://github.com/rasbt/DL-Gdansk2019-tutorial  "
   ]
  },
  {
   "cell_type": "code",
   "execution_count": 51,
   "metadata": {},
   "outputs": [
    {
     "name": "stdout",
     "output_type": "stream",
     "text": [
      "Sebastian Raschka \n",
      "\n",
      "CPython 3.6.8\n",
      "IPython 7.2.0\n",
      "\n",
      "torch 1.1.0\n"
     ]
    }
   ],
   "source": [
    "%load_ext watermark\n",
    "%watermark -a 'Sebastian Raschka' -v -p torch"
   ]
  },
  {
   "cell_type": "markdown",
   "metadata": {},
   "source": [
    "# Using PyTorch Dataset Loading Utilities for Custom Dataset -- UTKFace"
   ]
  },
  {
   "cell_type": "markdown",
   "metadata": {},
   "source": [
    "This notebook provides an example for how to prepare a custom dataset for PyTorch's data loading utilities. More in-depth information can be found in the official documentation at:\n",
    "\n",
    "- [Data Loading and Processing Tutorial](http://pytorch.org/tutorials/beginner/data_loading_tutorial.html)\n",
    "- [torch.utils.data](http://pytorch.org/docs/master/data.html) API documentation\n",
    "\n",
    "In this example, we are using the UTKFace datset, which is a face image dataset with age labels [1]:\n",
    "\n",
    "- https://susanqq.github.io/UTKFace/\n",
    "\n",
    "In particu\n",
    "\n",
    "[1] Zhang, Z., Song, Y., & Qi, H. (2017). Age progression/regression by conditional adversarial autoencoder. In Proceedings of the IEEE Conference on Computer Vision and Pattern Recognition (pp. 5810-5818)."
   ]
  },
  {
   "cell_type": "markdown",
   "metadata": {},
   "source": [
    "## Imports"
   ]
  },
  {
   "cell_type": "code",
   "execution_count": 52,
   "metadata": {},
   "outputs": [],
   "source": [
    "import time\n",
    "import os\n",
    "import pandas as pd\n",
    "import numpy as np\n",
    "from PIL import Image\n",
    "from torchvision import datasets\n",
    "from torchvision import transforms\n",
    "from torch.utils.data import DataLoader\n",
    "from torch.utils.data import SubsetRandomSampler\n",
    "from torch.utils.data import Dataset\n",
    "import torch.nn.functional as F\n",
    "import torch\n",
    "\n",
    "\n",
    "if torch.cuda.is_available():\n",
    "    torch.backends.cudnn.deterministic = True"
   ]
  },
  {
   "cell_type": "code",
   "execution_count": 53,
   "metadata": {},
   "outputs": [],
   "source": [
    "import matplotlib.pyplot as plt\n",
    "%matplotlib inline"
   ]
  },
  {
   "cell_type": "markdown",
   "metadata": {},
   "source": [
    "## Downloading the Dataset"
   ]
  },
  {
   "cell_type": "markdown",
   "metadata": {},
   "source": [
    "Download link from https://susanqq.github.io/UTKFace/:\n",
    "\n",
    "- https://drive.google.com/drive/folders/0BxYys69jI14kU0I1YUQyY1ZDRUE?usp=sharing"
   ]
  },
  {
   "cell_type": "code",
   "execution_count": 54,
   "metadata": {},
   "outputs": [],
   "source": [
    "# \"Unzip\"\n",
    "!tar -zxf UTKFace.tar.gz"
   ]
  },
  {
   "cell_type": "code",
   "execution_count": 55,
   "metadata": {},
   "outputs": [],
   "source": [
    "# Get image paths\n",
    "root_dir = 'UTKFace'\n",
    "\n",
    "files = [i for i in os.listdir(root_dir) if i.endswith('.jpg')]"
   ]
  },
  {
   "cell_type": "code",
   "execution_count": 56,
   "metadata": {},
   "outputs": [
    {
     "name": "stdout",
     "output_type": "stream",
     "text": [
      "Number of images in total: 23708\n"
     ]
    }
   ],
   "source": [
    "print(f'Number of images in total: {len(files)}')"
   ]
  },
  {
   "cell_type": "markdown",
   "metadata": {},
   "source": [
    "## Creating Label Files (CSVs)"
   ]
  },
  {
   "cell_type": "code",
   "execution_count": 57,
   "metadata": {},
   "outputs": [],
   "source": [
    "labels = []\n",
    "\n",
    "for f in files:\n",
    "    age = int(f.split('_')[0])\n",
    "    labels.append(age)"
   ]
  },
  {
   "cell_type": "code",
   "execution_count": 58,
   "metadata": {},
   "outputs": [
    {
     "data": {
      "text/html": [
       "<div>\n",
       "<style scoped>\n",
       "    .dataframe tbody tr th:only-of-type {\n",
       "        vertical-align: middle;\n",
       "    }\n",
       "\n",
       "    .dataframe tbody tr th {\n",
       "        vertical-align: top;\n",
       "    }\n",
       "\n",
       "    .dataframe thead th {\n",
       "        text-align: right;\n",
       "    }\n",
       "</style>\n",
       "<table border=\"1\" class=\"dataframe\">\n",
       "  <thead>\n",
       "    <tr style=\"text-align: right;\">\n",
       "      <th></th>\n",
       "      <th>filename</th>\n",
       "      <th>age</th>\n",
       "    </tr>\n",
       "  </thead>\n",
       "  <tbody>\n",
       "    <tr>\n",
       "      <th>0</th>\n",
       "      <td>26_0_3_20170119181013021.jpg.chip.jpg</td>\n",
       "      <td>26</td>\n",
       "    </tr>\n",
       "    <tr>\n",
       "      <th>1</th>\n",
       "      <td>1_1_0_20170109194452834.jpg.chip.jpg</td>\n",
       "      <td>1</td>\n",
       "    </tr>\n",
       "    <tr>\n",
       "      <th>2</th>\n",
       "      <td>26_0_1_20170113182742605.jpg.chip.jpg</td>\n",
       "      <td>26</td>\n",
       "    </tr>\n",
       "    <tr>\n",
       "      <th>3</th>\n",
       "      <td>26_1_1_20170113182739526.jpg.chip.jpg</td>\n",
       "      <td>26</td>\n",
       "    </tr>\n",
       "    <tr>\n",
       "      <th>4</th>\n",
       "      <td>54_0_1_20170120223426436.jpg.chip.jpg</td>\n",
       "      <td>54</td>\n",
       "    </tr>\n",
       "  </tbody>\n",
       "</table>\n",
       "</div>"
      ],
      "text/plain": [
       "                                filename  age\n",
       "0  26_0_3_20170119181013021.jpg.chip.jpg   26\n",
       "1   1_1_0_20170109194452834.jpg.chip.jpg    1\n",
       "2  26_0_1_20170113182742605.jpg.chip.jpg   26\n",
       "3  26_1_1_20170113182739526.jpg.chip.jpg   26\n",
       "4  54_0_1_20170120223426436.jpg.chip.jpg   54"
      ]
     },
     "execution_count": 58,
     "metadata": {},
     "output_type": "execute_result"
    }
   ],
   "source": [
    "df = pd.DataFrame(files, columns=['filename'])\n",
    "df['age'] = pd.Series(labels)\n",
    "df.head()"
   ]
  },
  {
   "cell_type": "code",
   "execution_count": 59,
   "metadata": {},
   "outputs": [
    {
     "data": {
      "image/png": "[encoded data removed]",
      "text/plain": [
       "<Figure size 432x288 with 1 Axes>"
      ]
     },
     "metadata": {
      "needs_background": "light"
     },
     "output_type": "display_data"
    }
   ],
   "source": [
    "im = Image.open(os.path.join(root_dir, files[0]))\n",
    "plt.imshow(im)\n",
    "plt.show()"
   ]
  },
  {
   "cell_type": "markdown",
   "metadata": {},
   "source": [
    "## Select subset"
   ]
  },
  {
   "cell_type": "code",
   "execution_count": 60,
   "metadata": {},
   "outputs": [
    {
     "name": "stdout",
     "output_type": "stream",
     "text": [
      "Number of images in total: 16434\n"
     ]
    }
   ],
   "source": [
    "df = df[ (df['age'] >= 21) & (df['age'] <= 60) ]\n",
    "print(f'Number of images in total: {df.shape[0]}')"
   ]
  },
  {
   "cell_type": "code",
   "execution_count": 61,
   "metadata": {},
   "outputs": [
    {
     "data": {
      "image/png": "[encoded data removed]",
      "text/plain": [
       "<Figure size 720x360 with 1 Axes>"
      ]
     },
     "metadata": {
      "needs_background": "light"
     },
     "output_type": "display_data"
    }
   ],
   "source": [
    "plt.figure(figsize=(10, 5))\n",
    "plt.hist(df['age'],\n",
    "         bins=range(21, 62), \n",
    "         edgecolor='white', \n",
    "         align='left')\n",
    "plt.xticks(np.unique(df['age'].values))\n",
    "plt.show()"
   ]
  },
  {
   "cell_type": "markdown",
   "metadata": {},
   "source": [
    "Normalize labels such that they start with `0`:"
   ]
  },
  {
   "cell_type": "code",
   "execution_count": 62,
   "metadata": {},
   "outputs": [],
   "source": [
    "df['age'] = df['age'].values - int(df['age'].min())"
   ]
  },
  {
   "cell_type": "markdown",
   "metadata": {},
   "source": [
    "Seperate dataset into training and test subsets:"
   ]
  },
  {
   "cell_type": "code",
   "execution_count": 63,
   "metadata": {},
   "outputs": [],
   "source": [
    "np.random.seed(123)\n",
    "msk = np.random.rand(len(df)) < 0.8\n",
    "df_train = df[msk]\n",
    "df_test = df[~msk]"
   ]
  },
  {
   "cell_type": "markdown",
   "metadata": {},
   "source": [
    "Save data partitioning as CSV:"
   ]
  },
  {
   "cell_type": "code",
   "execution_count": 64,
   "metadata": {},
   "outputs": [],
   "source": [
    "df_train.to_csv('training_set.csv', index=False)"
   ]
  },
  {
   "cell_type": "code",
   "execution_count": 65,
   "metadata": {},
   "outputs": [],
   "source": [
    "df_test.to_csv('test_set.csv', index=False)"
   ]
  },
  {
   "cell_type": "code",
   "execution_count": 66,
   "metadata": {},
   "outputs": [
    {
     "name": "stdout",
     "output_type": "stream",
     "text": [
      "Number of age labels: 40\n"
     ]
    }
   ],
   "source": [
    "num_ages = np.unique(df['age'].values).shape[0]\n",
    "print(f'Number of age labels: {num_ages}')"
   ]
  },
  {
   "cell_type": "code",
   "execution_count": 67,
   "metadata": {},
   "outputs": [
    {
     "name": "stdout",
     "output_type": "stream",
     "text": [
      "Number of training examples: 13176\n",
      "Number of test examples: 3258\n"
     ]
    }
   ],
   "source": [
    "print(f'Number of training examples: {df_train.shape[0]}')\n",
    "print(f'Number of test examples: {df_test.shape[0]}')"
   ]
  },
  {
   "cell_type": "markdown",
   "metadata": {},
   "source": [
    "## Implementing a Custom Dataset Class"
   ]
  },
  {
   "cell_type": "code",
   "execution_count": 68,
   "metadata": {},
   "outputs": [],
   "source": [
    "class UTKDatasetAge(Dataset):\n",
    "    \"\"\"Custom Dataset for loading UTKFace images\"\"\"\n",
    "\n",
    "    def __init__(self, csv_path, img_dir, transform=None):\n",
    "\n",
    "        df = pd.read_csv(csv_path)\n",
    "        self.img_dir = img_dir\n",
    "        self.csv_path = csv_path\n",
    "        self.df = df\n",
    "        self.y = df['age'].values\n",
    "        self.transform = transform\n",
    "\n",
    "    def __getitem__(self, index):\n",
    "        img = Image.open(os.path.join(self.img_dir,\n",
    "                                      self.df.iloc[index]['filename']))\n",
    "\n",
    "        if self.transform is not None:\n",
    "            img = self.transform(img)\n",
    "\n",
    "        label = self.y[index]\n",
    "\n",
    "        return img, label\n",
    "\n",
    "    def __len__(self):\n",
    "        return self.y.shape[0]"
   ]
  },
  {
   "cell_type": "markdown",
   "metadata": {},
   "source": [
    "## Setting Up DataLoaders"
   ]
  },
  {
   "cell_type": "code",
   "execution_count": 71,
   "metadata": {},
   "outputs": [],
   "source": [
    "TRAIN_CSV_PATH = 'training_set.csv'\n",
    "TEST_CSV_PATH = 'test_set.csv'\n",
    "IMAGE_PATH = 'UTKFace'\n",
    "BATCH_SIZE = 128"
   ]
  },
  {
   "cell_type": "code",
   "execution_count": 75,
   "metadata": {},
   "outputs": [],
   "source": [
    "train_indices = torch.arange(0, df_train.shape[0]-1000).numpy()\n",
    "valid_indices = torch.arange(df_train.shape[0]-1000, df_train.shape[0]).numpy()\n",
    "\n",
    "train_sampler = SubsetRandomSampler(train_indices)\n",
    "valid_sampler = SubsetRandomSampler(valid_indices)\n",
    "\n",
    "\n",
    "\n",
    "train_transform = transforms.Compose([transforms.Resize((128, 128)),\n",
    "                                      transforms.RandomCrop((120, 120)),\n",
    "                                      transforms.ToTensor()])\n",
    "\n",
    "test_transform = transforms.Compose([transforms.Resize((128, 128)),\n",
    "                                     transforms.CenterCrop((120, 120)),\n",
    "                                     transforms.ToTensor()])\n",
    "\n",
    "\n",
    "train_dataset = UTKDatasetAge(csv_path=TRAIN_CSV_PATH,\n",
    "                              img_dir=IMAGE_PATH,\n",
    "                              transform=train_transform)\n",
    "\n",
    "valid_dataset = UTKDatasetAge(csv_path=TRAIN_CSV_PATH,\n",
    "                              img_dir=IMAGE_PATH,\n",
    "                              transform=test_transform)\n",
    "\n",
    "test_dataset = UTKDatasetAge(csv_path=TEST_CSV_PATH,\n",
    "                             img_dir=IMAGE_PATH,\n",
    "                             transform=test_transform)\n",
    "\n",
    "\n",
    "\n",
    "\n",
    "train_loader = DataLoader(train_dataset,\n",
    "                          batch_size=BATCH_SIZE,\n",
    "                          num_workers=4,\n",
    "                          sampler=train_sampler)\n",
    "\n",
    "valid_loader = DataLoader(valid_dataset,\n",
    "                          batch_size=BATCH_SIZE,\n",
    "                          num_workers=4,\n",
    "                          sampler=valid_sampler)\n",
    "\n",
    "\n",
    "test_loader = DataLoader(dataset=test_dataset, \n",
    "                         batch_size=BATCH_SIZE,\n",
    "                         num_workers=4,\n",
    "                         shuffle=False)"
   ]
  },
  {
   "cell_type": "code",
   "execution_count": 76,
   "metadata": {},
   "outputs": [
    {
     "name": "stdout",
     "output_type": "stream",
     "text": [
      "Image batch dimensions: torch.Size([128, 3, 120, 120])\n",
      "Image label dimensions: torch.Size([128])\n",
      "Image batch dimensions: torch.Size([128, 3, 120, 120])\n",
      "Image label dimensions: torch.Size([128])\n",
      "Image batch dimensions: torch.Size([128, 3, 120, 120])\n",
      "Image label dimensions: torch.Size([128])\n"
     ]
    }
   ],
   "source": [
    "# Checking the dataset\n",
    "for images, labels in test_loader:  \n",
    "    print('Image batch dimensions:', images.shape)\n",
    "    print('Image label dimensions:', labels.shape)\n",
    "    break\n",
    "    \n",
    "for images, labels in valid_loader:  \n",
    "    print('Image batch dimensions:', images.shape)\n",
    "    print('Image label dimensions:', labels.shape)\n",
    "    break\n",
    "    \n",
    "for images, labels in train_loader:  \n",
    "    print('Image batch dimensions:', images.shape)\n",
    "    print('Image label dimensions:', labels.shape)\n",
    "    break"
   ]
  },
  {
   "cell_type": "markdown",
   "metadata": {},
   "source": [
    "## Iterating through the Custom Dataset"
   ]
  },
  {
   "cell_type": "code",
   "execution_count": 77,
   "metadata": {},
   "outputs": [
    {
     "name": "stdout",
     "output_type": "stream",
     "text": [
      "Epoch: 1 | Batch index: 0 | Batch size: 128\n",
      "Epoch: 2 | Batch index: 0 | Batch size: 128\n"
     ]
    }
   ],
   "source": [
    "device = torch.device(\"cuda:0\" if torch.cuda.is_available() else \"cpu\")\n",
    "torch.manual_seed(0)\n",
    "\n",
    "num_epochs = 2\n",
    "for epoch in range(num_epochs):\n",
    "\n",
    "    for batch_idx, (x, y) in enumerate(train_loader):\n",
    "        \n",
    "        print('Epoch:', epoch+1, end='')\n",
    "        print(' | Batch index:', batch_idx, end='')\n",
    "        print(' | Batch size:', y.size()[0])\n",
    "        \n",
    "        x = x.to(device)\n",
    "        y = y.to(device)\n",
    "        break"
   ]
  },
  {
   "cell_type": "markdown",
   "metadata": {},
   "source": [
    "## Expected Error for Average Classifier"
   ]
  },
  {
   "cell_type": "markdown",
   "metadata": {},
   "source": [
    "$$\\lfloor \\; \\mathrm{E}[X] \\; \\rceil= \\bigg \\lfloor \\sum_{i=1}^{k} x_{i} p_{i}=x_{1} p_{1}+x_{2} p_{2}+\\cdots+x_{k} p_{k} \\bigg \\rceil$$"
   ]
  },
  {
   "cell_type": "code",
   "execution_count": 80,
   "metadata": {},
   "outputs": [
    {
     "name": "stdout",
     "output_type": "stream",
     "text": [
      "Error class 0: 13.907710989678202\n",
      "Error class 1: 12.949301760777171\n",
      "Error class 2: 12.039162112932605\n",
      "Error class 3: 11.180327868852459\n",
      "Error class 4: 10.428658166363084\n",
      "Error class 5: 9.766545233758348\n",
      "Error class 6: 9.375227686703097\n",
      "Error class 7: 9.058287795992713\n",
      "Error class 8: 8.853369763205828\n",
      "Error class 9: 8.717213114754099\n",
      "Error class 10: 8.668943533697632\n",
      "Error class 11: 8.661809350333941\n",
      "Error class 12: 8.736642380085003\n",
      "Error class 13: 8.82953855494839\n",
      "Error class 14: 8.973891924711596\n",
      "Error class 15: 9.219945355191257\n",
      "Error class 16: 9.526411657559198\n",
      "Error class 17: 9.869156041287189\n",
      "Error class 18: 10.25333940497875\n",
      "Error class 19: 10.669398907103826\n",
      "Error class 20: 11.147844565877353\n",
      "Error class 21: 11.643746205221616\n",
      "Error class 22: 12.171068609593199\n",
      "Error class 23: 12.716605950212507\n",
      "Error class 24: 13.27489374620522\n",
      "Error class 25: 13.887219186399514\n",
      "Error class 26: 14.519884638737098\n",
      "Error class 27: 15.172131147540984\n",
      "Error class 28: 15.843655130540377\n",
      "Error class 29: 16.532635094110503\n",
      "Error class 30: 17.267607771706132\n",
      "Error class 31: 18.01927747419551\n",
      "Error class 32: 18.79978749241044\n",
      "Error class 33: 19.609593199757136\n",
      "Error class 34: 20.45977534911961\n",
      "Error class 35: 21.342137219186398\n",
      "Error class 36: 22.252732240437158\n",
      "Error class 37: 23.174711596842744\n",
      "Error class 38: 24.12887067395264\n",
      "Error class 39: 25.092289010321796\n"
     ]
    }
   ],
   "source": [
    "for i in np.unique(df_train['age'].values):\n",
    "    err = np.sum(np.abs(df_train['age'] - i))\n",
    "    print(f'Error class {i}: {err/df_train.shape[0]}')"
   ]
  },
  {
   "cell_type": "code",
   "execution_count": 78,
   "metadata": {},
   "outputs": [
    {
     "name": "stdout",
     "output_type": "stream",
     "text": [
      "Error class 0: 14.21792510742787\n",
      "Error class 1: 13.262124002455494\n",
      "Error class 2: 12.353591160220995\n",
      "Error class 3: 11.499079189686924\n",
      "Error class 4: 10.738489871086555\n",
      "Error class 5: 10.066298342541437\n",
      "Error class 6: 9.647636586863106\n",
      "Error class 7: 9.305709023941068\n",
      "Error class 8: 9.07427869858809\n",
      "Error class 9: 8.914671577655003\n",
      "Error class 10: 8.844076120319214\n",
      "Error class 11: 8.821976672805402\n",
      "Error class 12: 8.875997544505832\n",
      "Error class 13: 8.94475138121547\n",
      "Error class 14: 9.056476365868631\n",
      "Error class 15: 9.297114794352364\n",
      "Error class 16: 9.589932473910375\n",
      "Error class 17: 9.915899324739105\n",
      "Error class 18: 10.273787599754451\n",
      "Error class 19: 10.666052793124617\n",
      "Error class 20: 11.128913443830571\n",
      "Error class 21: 11.602209944751381\n",
      "Error class 22: 12.111724984653161\n",
      "Error class 23: 12.643953345610804\n",
      "Error class 24: 13.186003683241251\n",
      "Error class 25: 13.779619398403929\n",
      "Error class 26: 14.384898710865562\n",
      "Error class 27: 15.015346838551258\n",
      "Error class 28: 15.661755678330264\n",
      "Error class 29: 16.32842234499693\n",
      "Error class 30: 17.042971147943522\n",
      "Error class 31: 17.774708410067525\n",
      "Error class 32: 18.532228360957642\n",
      "Error class 33: 19.319214241866174\n",
      "Error class 34: 20.15960712093309\n",
      "Error class 35: 21.03437691835482\n",
      "Error class 36: 21.939840392879066\n",
      "Error class 37: 22.85880908532842\n",
      "Error class 38: 23.813996316758747\n",
      "Error class 39: 24.78207489257213\n"
     ]
    }
   ],
   "source": [
    "for i in np.unique(df_test['age'].values):\n",
    "    err = np.sum(np.abs(df_test['age'] - i))\n",
    "    print(f'Error class {i}: {err/df_test.shape[0]}')"
   ]
  },
  {
   "cell_type": "markdown",
   "metadata": {},
   "source": [
    "## Expected CrossEntropy loss for random classifier"
   ]
  },
  {
   "cell_type": "code",
   "execution_count": 83,
   "metadata": {},
   "outputs": [
    {
     "data": {
      "text/plain": [
       "3.6888794541139363"
      ]
     },
     "execution_count": 83,
     "metadata": {},
     "output_type": "execute_result"
    }
   ],
   "source": [
    "-np.log(1/40)"
   ]
  },
  {
   "cell_type": "code",
   "execution_count": null,
   "metadata": {},
   "outputs": [],
   "source": []
  }
 ],
 "metadata": {
  "kernelspec": {
   "display_name": "Python 3",
   "language": "python",
   "name": "python3"
  },
  "language_info": {
   "codemirror_mode": {
    "name": "ipython",
    "version": 3
   },
   "file_extension": ".py",
   "mimetype": "text/x-python",
   "name": "python",
   "nbconvert_exporter": "python",
   "pygments_lexer": "ipython3",
   "version": "3.7.1"
  },
  "toc": {
   "nav_menu": {},
   "number_sections": true,
   "sideBar": true,
   "skip_h1_title": false,
   "title_cell": "Table of Contents",
   "title_sidebar": "Contents",
   "toc_cell": false,
   "toc_position": {},
   "toc_section_display": true,
   "toc_window_display": false
  }
 },
 "nbformat": 4,
 "nbformat_minor": 2
}
