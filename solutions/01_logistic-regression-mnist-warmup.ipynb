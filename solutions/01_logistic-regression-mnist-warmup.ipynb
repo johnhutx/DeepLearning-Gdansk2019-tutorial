{
 "cells": [
  {
   "cell_type": "markdown",
   "metadata": {},
   "source": [
    "[Deep Learning Summer School 2019](http://2019.dl-lab.eu) in Gdansk, Poland  \n",
    "**Ordinal Regression Tutorial** by [Sebastian Raschka](https://sebastianraschka.com)  \n",
    "GitHub Repository: https://github.com/rasbt/DL-Gdansk2019-tutorial  "
   ]
  },
  {
   "cell_type": "code",
   "execution_count": 1,
   "metadata": {},
   "outputs": [
    {
     "name": "stdout",
     "output_type": "stream",
     "text": [
      "Sebastian Raschka \n",
      "last updated: 2019-06-28 \n",
      "\n",
      "CPython 3.6.8\n",
      "IPython 7.2.0\n",
      "\n",
      "torch 1.1.0\n",
      "numpy 1.15.4\n",
      "scipy 1.1.0\n"
     ]
    }
   ],
   "source": [
    "%load_ext watermark\n",
    "%watermark -u -d -a 'Sebastian Raschka' -v -p torch,numpy,scipy"
   ]
  },
  {
   "cell_type": "markdown",
   "metadata": {},
   "source": [
    "- Runs on CPU or GPU (if available)"
   ]
  },
  {
   "cell_type": "markdown",
   "metadata": {},
   "source": [
    "# 01 -- Warm-up: Training a Logistic Regression Classifier on MNIST"
   ]
  },
  {
   "cell_type": "markdown",
   "metadata": {},
   "source": [
    "This tutorial notebook implements a multinomial logistic regression classifier (also known as Softmax Regression classifier) to familiarize ourself with the basic setup with regard to using `DataLoader` training a neural network (here: single layer) in PyTorch."
   ]
  },
  {
   "cell_type": "markdown",
   "metadata": {},
   "source": [
    "## Imports"
   ]
  },
  {
   "cell_type": "code",
   "execution_count": 2,
   "metadata": {},
   "outputs": [],
   "source": [
    "import time\n",
    "import numpy as np\n",
    "from torchvision import datasets\n",
    "from torchvision import transforms\n",
    "from torch.utils.data import DataLoader\n",
    "from torch.utils.data import SubsetRandomSampler\n",
    "import torch.nn.functional as F\n",
    "import torch\n",
    "\n",
    "\n",
    "if torch.cuda.is_available():\n",
    "    torch.backends.cudnn.deterministic = True"
   ]
  },
  {
   "cell_type": "markdown",
   "metadata": {},
   "source": [
    "For this tutorial, no GPU is required. However, it is recommended to make sure that this tutorial runs on a GPU, which will be relevant for the more computationally involved examples later."
   ]
  },
  {
   "cell_type": "code",
   "execution_count": 3,
   "metadata": {},
   "outputs": [
    {
     "name": "stdout",
     "output_type": "stream",
     "text": [
      "Device: cuda:0\n"
     ]
    }
   ],
   "source": [
    "DEVICE = torch.device(\"cuda:0\" if torch.cuda.is_available() else \"cpu\")\n",
    "print(f'Device: {DEVICE}')"
   ]
  },
  {
   "cell_type": "markdown",
   "metadata": {},
   "source": [
    "## General Settings"
   ]
  },
  {
   "cell_type": "code",
   "execution_count": 4,
   "metadata": {},
   "outputs": [],
   "source": [
    "##########################\n",
    "### SETTINGS\n",
    "##########################\n",
    "\n",
    "\n",
    "# Hyperparameters\n",
    "RANDOM_SEED = 1\n",
    "LEARNING_RATE = 0.1\n",
    "NUM_EPOCHS = 20\n",
    "BATCH_SIZE = 256\n",
    "\n",
    "# Architecture\n",
    "NUM_FEATURES = 28*28 # no. of pixels in each image\n",
    "NUM_CLASSES = 10"
   ]
  },
  {
   "cell_type": "markdown",
   "metadata": {},
   "source": [
    "## Dataset"
   ]
  },
  {
   "cell_type": "code",
   "execution_count": 5,
   "metadata": {},
   "outputs": [
    {
     "name": "stdout",
     "output_type": "stream",
     "text": [
      "Image batch dimensions: torch.Size([256, 1, 28, 28])\n",
      "Image label dimensions: torch.Size([256])\n"
     ]
    }
   ],
   "source": [
    "##########################\n",
    "### MNIST DATASET\n",
    "##########################\n",
    "\n",
    "train_indices = torch.arange(0, 59000)\n",
    "valid_indices = torch.arange(59000, 60000)\n",
    "\n",
    "train_sampler = SubsetRandomSampler(train_indices)\n",
    "valid_sampler = SubsetRandomSampler(valid_indices)\n",
    "\n",
    "\n",
    "\n",
    "# Note transforms.ToTensor() scales input images\n",
    "# to 0-1 range\n",
    "\n",
    "train_dataset = datasets.MNIST(root='data', \n",
    "                               train=True, \n",
    "                               transform=transforms.ToTensor(),\n",
    "                               download=True)\n",
    "\n",
    "valid_dataset = datasets.MNIST(root='data', \n",
    "                               train=True, \n",
    "                               transform=transforms.ToTensor(),\n",
    "                               download=False)\n",
    "\n",
    "test_dataset = datasets.MNIST(root='data', \n",
    "                              train=False, \n",
    "                              transform=transforms.ToTensor())\n",
    "\n",
    "\n",
    "\n",
    "train_loader = DataLoader(train_dataset,\n",
    "                          batch_size=BATCH_SIZE,\n",
    "                          num_workers=1,\n",
    "                          sampler=train_sampler)\n",
    "\n",
    "valid_loader = DataLoader(valid_dataset,\n",
    "                          batch_size=BATCH_SIZE,\n",
    "                          num_workers=1,\n",
    "                          sampler=valid_sampler)\n",
    "\n",
    "\n",
    "test_loader = DataLoader(dataset=test_dataset, \n",
    "                         batch_size=BATCH_SIZE,\n",
    "                         num_workers=4,\n",
    "                         shuffle=False)\n",
    "\n",
    "# Checking the dataset\n",
    "for images, labels in train_loader:  \n",
    "    print('Image batch dimensions:', images.shape)\n",
    "    print('Image label dimensions:', labels.shape)\n",
    "    break"
   ]
  },
  {
   "cell_type": "code",
   "execution_count": 6,
   "metadata": {},
   "outputs": [
    {
     "name": "stdout",
     "output_type": "stream",
     "text": [
      "tensor([2, 2, 9, 4, 3, 5, 9, 8, 0, 4])\n"
     ]
    }
   ],
   "source": [
    "# Check that validation splits are not all from 1 class\n",
    "\n",
    "for images, labels in valid_loader:  \n",
    "    pass\n",
    "print(labels[:10])"
   ]
  },
  {
   "cell_type": "markdown",
   "metadata": {},
   "source": [
    "## Model Setup"
   ]
  },
  {
   "cell_type": "markdown",
   "metadata": {},
   "source": [
    "### Define the model architecture"
   ]
  },
  {
   "cell_type": "code",
   "execution_count": 7,
   "metadata": {},
   "outputs": [],
   "source": [
    "##########################\n",
    "### MODEL\n",
    "##########################\n",
    "\n",
    "class LogisticRegression(torch.nn.Module):\n",
    "    \"\"\"Multinomial Logistic Regression model\"\"\"\n",
    "\n",
    "    def __init__(self, num_features, num_classes):\n",
    "        super(LogisticRegression, self).__init__()\n",
    "        \n",
    "        ### Output layer\n",
    "        self.linear_out = torch.nn.Linear(NUM_FEATURES, NUM_CLASSES)\n",
    "        \n",
    "        # the following two lines are optional\n",
    "        self.linear_out.weight.detach().normal_(0.0, 0.1)\n",
    "        self.linear_out.bias.detach().zero_()\n",
    "        \n",
    "    def forward(self, x):\n",
    "        logits = self.linear_out(x)\n",
    "        probas = F.softmax(logits, dim=1)\n",
    "        return logits, probas"
   ]
  },
  {
   "cell_type": "markdown",
   "metadata": {},
   "source": [
    "### Initialize the model"
   ]
  },
  {
   "cell_type": "code",
   "execution_count": 8,
   "metadata": {},
   "outputs": [],
   "source": [
    "# use random seed for reproducibility (here weight initialization)\n",
    "torch.manual_seed(RANDOM_SEED)\n",
    "model = LogisticRegression(num_features=NUM_FEATURES,\n",
    "                           num_classes=NUM_CLASSES)\n",
    "\n",
    "# use GPU if available\n",
    "model = model.to(DEVICE)\n",
    "\n",
    "# initialize the optimizer\n",
    "optimizer = torch.optim.SGD(model.parameters(), lr=LEARNING_RATE)"
   ]
  },
  {
   "cell_type": "markdown",
   "metadata": {},
   "source": [
    "## Model Training"
   ]
  },
  {
   "cell_type": "markdown",
   "metadata": {},
   "source": [
    "Helper function to compute the prediction accuracy:"
   ]
  },
  {
   "cell_type": "code",
   "execution_count": 9,
   "metadata": {},
   "outputs": [],
   "source": [
    "def compute_accuracy(net, data_loader, device):\n",
    "    net.eval()\n",
    "    correct_pred, num_examples = 0, 0\n",
    "    with torch.no_grad():\n",
    "        for features, targets in data_loader:\n",
    "            features = features.view(-1, 28*28).to(device)\n",
    "            targets = targets.to(device)\n",
    "            logits, probas = net(features)\n",
    "            _, predicted_labels = torch.max(probas, 1)\n",
    "            num_examples += targets.size(0)\n",
    "            correct_pred += (predicted_labels == targets).sum()\n",
    "        return correct_pred.float()/num_examples * 100"
   ]
  },
  {
   "cell_type": "markdown",
   "metadata": {},
   "source": [
    "Training loop:"
   ]
  },
  {
   "cell_type": "code",
   "execution_count": 10,
   "metadata": {},
   "outputs": [
    {
     "name": "stdout",
     "output_type": "stream",
     "text": [
      "Epoch: 001/020 | Batch 000/231 | Cost: 2.6417\n",
      "Epoch: 001/020 | Batch 050/231 | Cost: 0.9123\n",
      "Epoch: 001/020 | Batch 100/231 | Cost: 0.6201\n",
      "Epoch: 001/020 | Batch 150/231 | Cost: 0.5684\n",
      "Epoch: 001/020 | Batch 200/231 | Cost: 0.5137\n",
      "Epoch: 001/020\n",
      "Train Acc: 86.94% | Validation Acc: 91.80%\n",
      "Time elapsed: 1.03 min\n",
      "Epoch: 002/020 | Batch 000/231 | Cost: 0.5759\n",
      "Epoch: 002/020 | Batch 050/231 | Cost: 0.4364\n",
      "Epoch: 002/020 | Batch 100/231 | Cost: 0.4694\n",
      "Epoch: 002/020 | Batch 150/231 | Cost: 0.4531\n",
      "Epoch: 002/020 | Batch 200/231 | Cost: 0.3449\n",
      "Epoch: 002/020\n",
      "Train Acc: 88.67% | Validation Acc: 92.40%\n",
      "Time elapsed: 2.06 min\n",
      "Epoch: 003/020 | Batch 000/231 | Cost: 0.4389\n",
      "Epoch: 003/020 | Batch 050/231 | Cost: 0.4291\n",
      "Epoch: 003/020 | Batch 100/231 | Cost: 0.4785\n",
      "Epoch: 003/020 | Batch 150/231 | Cost: 0.4005\n",
      "Epoch: 003/020 | Batch 200/231 | Cost: 0.4238\n",
      "Epoch: 003/020\n",
      "Train Acc: 89.44% | Validation Acc: 93.00%\n",
      "Time elapsed: 3.10 min\n",
      "Epoch: 004/020 | Batch 000/231 | Cost: 0.3113\n",
      "Epoch: 004/020 | Batch 050/231 | Cost: 0.3588\n",
      "Epoch: 004/020 | Batch 100/231 | Cost: 0.3170\n",
      "Epoch: 004/020 | Batch 150/231 | Cost: 0.3130\n",
      "Epoch: 004/020 | Batch 200/231 | Cost: 0.3569\n",
      "Epoch: 004/020\n",
      "Train Acc: 90.01% | Validation Acc: 93.50%\n",
      "Time elapsed: 4.16 min\n",
      "Epoch: 005/020 | Batch 000/231 | Cost: 0.3922\n",
      "Epoch: 005/020 | Batch 050/231 | Cost: 0.3791\n",
      "Epoch: 005/020 | Batch 100/231 | Cost: 0.3096\n",
      "Epoch: 005/020 | Batch 150/231 | Cost: 0.4144\n",
      "Epoch: 005/020 | Batch 200/231 | Cost: 0.4018\n",
      "Epoch: 005/020\n",
      "Train Acc: 90.29% | Validation Acc: 93.30%\n",
      "Time elapsed: 5.21 min\n",
      "Epoch: 006/020 | Batch 000/231 | Cost: 0.2712\n",
      "Epoch: 006/020 | Batch 050/231 | Cost: 0.3760\n",
      "Epoch: 006/020 | Batch 100/231 | Cost: 0.3774\n",
      "Epoch: 006/020 | Batch 150/231 | Cost: 0.3648\n",
      "Epoch: 006/020 | Batch 200/231 | Cost: 0.3893\n",
      "Epoch: 006/020\n",
      "Train Acc: 90.63% | Validation Acc: 93.40%\n",
      "Time elapsed: 6.24 min\n",
      "Epoch: 007/020 | Batch 000/231 | Cost: 0.3560\n",
      "Epoch: 007/020 | Batch 050/231 | Cost: 0.4608\n",
      "Epoch: 007/020 | Batch 100/231 | Cost: 0.3596\n",
      "Epoch: 007/020 | Batch 150/231 | Cost: 0.3421\n",
      "Epoch: 007/020 | Batch 200/231 | Cost: 0.3538\n",
      "Epoch: 007/020\n",
      "Train Acc: 90.77% | Validation Acc: 94.00%\n",
      "Time elapsed: 7.27 min\n",
      "Epoch: 008/020 | Batch 000/231 | Cost: 0.3254\n",
      "Epoch: 008/020 | Batch 050/231 | Cost: 0.3480\n",
      "Epoch: 008/020 | Batch 100/231 | Cost: 0.2979\n",
      "Epoch: 008/020 | Batch 150/231 | Cost: 0.3103\n",
      "Epoch: 008/020 | Batch 200/231 | Cost: 0.3792\n",
      "Epoch: 008/020\n",
      "Train Acc: 90.90% | Validation Acc: 94.00%\n",
      "Time elapsed: 8.32 min\n",
      "Epoch: 009/020 | Batch 000/231 | Cost: 0.2889\n",
      "Epoch: 009/020 | Batch 050/231 | Cost: 0.2911\n",
      "Epoch: 009/020 | Batch 100/231 | Cost: 0.2647\n",
      "Epoch: 009/020 | Batch 150/231 | Cost: 0.2837\n",
      "Epoch: 009/020 | Batch 200/231 | Cost: 0.3389\n",
      "Epoch: 009/020\n",
      "Train Acc: 91.11% | Validation Acc: 94.10%\n",
      "Time elapsed: 9.36 min\n",
      "Epoch: 010/020 | Batch 000/231 | Cost: 0.3111\n",
      "Epoch: 010/020 | Batch 050/231 | Cost: 0.3142\n",
      "Epoch: 010/020 | Batch 100/231 | Cost: 0.2842\n",
      "Epoch: 010/020 | Batch 150/231 | Cost: 0.2642\n",
      "Epoch: 010/020 | Batch 200/231 | Cost: 0.2909\n",
      "Epoch: 010/020\n",
      "Train Acc: 91.25% | Validation Acc: 94.30%\n",
      "Time elapsed: 10.40 min\n",
      "Epoch: 011/020 | Batch 000/231 | Cost: 0.2939\n",
      "Epoch: 011/020 | Batch 050/231 | Cost: 0.2946\n",
      "Epoch: 011/020 | Batch 100/231 | Cost: 0.2290\n",
      "Epoch: 011/020 | Batch 150/231 | Cost: 0.3182\n",
      "Epoch: 011/020 | Batch 200/231 | Cost: 0.3135\n",
      "Epoch: 011/020\n",
      "Train Acc: 91.33% | Validation Acc: 94.20%\n",
      "Time elapsed: 11.45 min\n",
      "Epoch: 012/020 | Batch 000/231 | Cost: 0.4011\n",
      "Epoch: 012/020 | Batch 050/231 | Cost: 0.3234\n",
      "Epoch: 012/020 | Batch 100/231 | Cost: 0.2983\n",
      "Epoch: 012/020 | Batch 150/231 | Cost: 0.2851\n",
      "Epoch: 012/020 | Batch 200/231 | Cost: 0.2657\n",
      "Epoch: 012/020\n",
      "Train Acc: 91.37% | Validation Acc: 94.20%\n",
      "Time elapsed: 12.49 min\n",
      "Epoch: 013/020 | Batch 000/231 | Cost: 0.4291\n",
      "Epoch: 013/020 | Batch 050/231 | Cost: 0.3896\n",
      "Epoch: 013/020 | Batch 100/231 | Cost: 0.2923\n",
      "Epoch: 013/020 | Batch 150/231 | Cost: 0.2640\n",
      "Epoch: 013/020 | Batch 200/231 | Cost: 0.3610\n",
      "Epoch: 013/020\n",
      "Train Acc: 91.50% | Validation Acc: 94.30%\n",
      "Time elapsed: 13.52 min\n",
      "Epoch: 014/020 | Batch 000/231 | Cost: 0.2672\n",
      "Epoch: 014/020 | Batch 050/231 | Cost: 0.3398\n",
      "Epoch: 014/020 | Batch 100/231 | Cost: 0.3195\n",
      "Epoch: 014/020 | Batch 150/231 | Cost: 0.2694\n",
      "Epoch: 014/020 | Batch 200/231 | Cost: 0.3424\n",
      "Epoch: 014/020\n",
      "Train Acc: 91.56% | Validation Acc: 94.30%\n",
      "Time elapsed: 14.56 min\n",
      "Epoch: 015/020 | Batch 000/231 | Cost: 0.2812\n",
      "Epoch: 015/020 | Batch 050/231 | Cost: 0.2918\n",
      "Epoch: 015/020 | Batch 100/231 | Cost: 0.2405\n",
      "Epoch: 015/020 | Batch 150/231 | Cost: 0.3385\n",
      "Epoch: 015/020 | Batch 200/231 | Cost: 0.3477\n",
      "Epoch: 015/020\n",
      "Train Acc: 91.61% | Validation Acc: 94.00%\n",
      "Time elapsed: 15.60 min\n",
      "Epoch: 016/020 | Batch 000/231 | Cost: 0.3050\n",
      "Epoch: 016/020 | Batch 050/231 | Cost: 0.3402\n",
      "Epoch: 016/020 | Batch 100/231 | Cost: 0.2742\n",
      "Epoch: 016/020 | Batch 150/231 | Cost: 0.2787\n",
      "Epoch: 016/020 | Batch 200/231 | Cost: 0.2285\n",
      "Epoch: 016/020\n",
      "Train Acc: 91.66% | Validation Acc: 94.30%\n",
      "Time elapsed: 16.65 min\n",
      "Epoch: 017/020 | Batch 000/231 | Cost: 0.3331\n",
      "Epoch: 017/020 | Batch 050/231 | Cost: 0.4101\n",
      "Epoch: 017/020 | Batch 100/231 | Cost: 0.2960\n",
      "Epoch: 017/020 | Batch 150/231 | Cost: 0.2252\n",
      "Epoch: 017/020 | Batch 200/231 | Cost: 0.4492\n",
      "Epoch: 017/020\n",
      "Train Acc: 91.69% | Validation Acc: 94.20%\n",
      "Time elapsed: 17.69 min\n",
      "Epoch: 018/020 | Batch 000/231 | Cost: 0.2545\n",
      "Epoch: 018/020 | Batch 050/231 | Cost: 0.2710\n",
      "Epoch: 018/020 | Batch 100/231 | Cost: 0.2283\n",
      "Epoch: 018/020 | Batch 150/231 | Cost: 0.3046\n",
      "Epoch: 018/020 | Batch 200/231 | Cost: 0.3046\n",
      "Epoch: 018/020\n",
      "Train Acc: 91.74% | Validation Acc: 94.20%\n",
      "Time elapsed: 18.72 min\n",
      "Epoch: 019/020 | Batch 000/231 | Cost: 0.2674\n",
      "Epoch: 019/020 | Batch 050/231 | Cost: 0.2402\n",
      "Epoch: 019/020 | Batch 100/231 | Cost: 0.2661\n",
      "Epoch: 019/020 | Batch 150/231 | Cost: 0.3836\n",
      "Epoch: 019/020 | Batch 200/231 | Cost: 0.2899\n",
      "Epoch: 019/020\n",
      "Train Acc: 91.83% | Validation Acc: 94.20%\n",
      "Time elapsed: 19.74 min\n",
      "Epoch: 020/020 | Batch 000/231 | Cost: 0.3074\n",
      "Epoch: 020/020 | Batch 050/231 | Cost: 0.2491\n",
      "Epoch: 020/020 | Batch 100/231 | Cost: 0.2617\n",
      "Epoch: 020/020 | Batch 150/231 | Cost: 0.2197\n",
      "Epoch: 020/020 | Batch 200/231 | Cost: 0.3265\n",
      "Epoch: 020/020\n",
      "Train Acc: 91.91% | Validation Acc: 94.40%\n",
      "Time elapsed: 20.78 min\n",
      "Total Training Time: 20.78 min\n"
     ]
    }
   ],
   "source": [
    "start_time = time.time()\n",
    "\n",
    "# use random seed for reproducibility (here batch shuffling)\n",
    "torch.manual_seed(RANDOM_SEED)\n",
    "\n",
    "cost_list = []\n",
    "train_acc_list, valid_acc_list = [], []\n",
    "\n",
    "\n",
    "for epoch in range(NUM_EPOCHS):\n",
    "    \n",
    "    model.train()\n",
    "    \n",
    "    for batch_idx, (features, targets) in enumerate(train_loader):\n",
    "    \n",
    "        ### PREPARE MINIBATCH\n",
    "        features = features.view(-1, 28*28).to(DEVICE)\n",
    "        targets = targets.to(DEVICE)\n",
    "            \n",
    "        ### FORWARD AND BACK PROP\n",
    "        logits, probas = model(features)\n",
    "        cost = F.cross_entropy(logits, targets)\n",
    "\n",
    "        optimizer.zero_grad()        \n",
    "        cost.backward()\n",
    "        \n",
    "        ### UPDATE MODEL PARAMETERS\n",
    "        optimizer.step()\n",
    "        \n",
    "        ### LOGGING\n",
    "        cost_list.append(cost.item())\n",
    "        if not batch_idx % 50:\n",
    "            print (f'Epoch: {epoch+1:03d}/{NUM_EPOCHS:03d} | '\n",
    "                   f'Batch {batch_idx:03d}/{len(train_loader):03d} |' \n",
    "                   f' Cost: {cost:.4f}')\n",
    "\n",
    "    # no need to build the computation graph for backprop when computing accuracy\n",
    "    with torch.set_grad_enabled(False):\n",
    "        train_acc = compute_accuracy(model, train_loader, device=DEVICE)\n",
    "        valid_acc = compute_accuracy(model, valid_loader, device=DEVICE)\n",
    "        print(f'Epoch: {epoch+1:03d}/{NUM_EPOCHS:03d}\\n'\n",
    "              f'Train Acc: {train_acc:.2f}% | Validation Acc: {valid_acc:.2f}%')\n",
    "        train_acc_list.append(train_acc)\n",
    "        valid_acc_list.append(valid_acc)\n",
    "        \n",
    "    elapsed = (time.time() - start_time)/60\n",
    "    print(f'Time elapsed: {elapsed:.2f} min')\n",
    "  \n",
    "elapsed = (time.time() - start_time)/60\n",
    "print(f'Total Training Time: {elapsed:.2f} min')"
   ]
  },
  {
   "cell_type": "markdown",
   "metadata": {},
   "source": [
    "## Evaluate"
   ]
  },
  {
   "cell_type": "code",
   "execution_count": 11,
   "metadata": {},
   "outputs": [
    {
     "data": {
      "image/png": "[encoded data removed]",
      "text/plain": [
       "<Figure size 432x288 with 1 Axes>"
      ]
     },
     "metadata": {
      "needs_background": "light"
     },
     "output_type": "display_data"
    },
    {
     "data": {
      "image/png": "[encoded data removed]",
      "text/plain": [
       "<Figure size 432x288 with 1 Axes>"
      ]
     },
     "metadata": {
      "needs_background": "light"
     },
     "output_type": "display_data"
    }
   ],
   "source": [
    "import matplotlib.pyplot as plt\n",
    "%matplotlib inline\n",
    "\n",
    "plt.plot(np.arange(1, NUM_EPOCHS+1), train_acc_list, label='Training')\n",
    "plt.plot(np.arange(1, NUM_EPOCHS+1), valid_acc_list, label='Validation')\n",
    "plt.ylim(50, 100)\n",
    "plt.xlabel('Epoch')\n",
    "plt.ylabel('Accuracy')\n",
    "plt.legend()\n",
    "plt.show()\n",
    "\n",
    "plt.plot(cost_list, label='Minibatch cost')\n",
    "plt.plot(np.convolve(cost_list, \n",
    "                     np.ones(200,)/200, mode='valid'), \n",
    "         label='Running average')\n",
    "\n",
    "plt.ylabel('Cross Entropy')\n",
    "plt.xlabel('Iteration')\n",
    "plt.legend()\n",
    "plt.show()"
   ]
  },
  {
   "cell_type": "code",
   "execution_count": 12,
   "metadata": {},
   "outputs": [
    {
     "name": "stdout",
     "output_type": "stream",
     "text": [
      "Test accuracy: 92.05%\n"
     ]
    }
   ],
   "source": [
    "with torch.set_grad_enabled(False):\n",
    "    acc = compute_accuracy(model, test_loader, device=DEVICE)\n",
    "    print(f'Test accuracy: {acc:.2f}%')"
   ]
  }
 ],
 "metadata": {
  "kernelspec": {
   "display_name": "Python 3",
   "language": "python",
   "name": "python3"
  },
  "language_info": {
   "codemirror_mode": {
    "name": "ipython",
    "version": 3
   },
   "file_extension": ".py",
   "mimetype": "text/x-python",
   "name": "python",
   "nbconvert_exporter": "python",
   "pygments_lexer": "ipython3",
   "version": "3.6.8"
  },
  "toc": {
   "nav_menu": {},
   "number_sections": true,
   "sideBar": true,
   "skip_h1_title": false,
   "title_cell": "Table of Contents",
   "title_sidebar": "Contents",
   "toc_cell": false,
   "toc_position": {},
   "toc_section_display": true,
   "toc_window_display": false
  }
 },
 "nbformat": 4,
 "nbformat_minor": 2
}
