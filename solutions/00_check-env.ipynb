{
 "cells": [
  {
   "cell_type": "markdown",
   "metadata": {},
   "source": [
    "[Deep Learning Summer School 2019](http://2019.dl-lab.eu) in Gdansk, Poland  \n",
    "**Ordinal Regression Tutorial** by [Sebastian Raschka](https://sebastianraschka.com)  \n",
    "GitHub Repository: https://github.com/rasbt/DL-Gdansk2019-tutorial  "
   ]
  },
  {
   "cell_type": "markdown",
   "metadata": {},
   "source": [
    "# Checking the Environment and Installed Packages"
   ]
  },
  {
   "cell_type": "markdown",
   "metadata": {},
   "source": [
    "This notebook is just to check that certain packages that we will be mostly relying on are available. Exact version matches are likely not necessary, but you environment should somewhat resemble the one shown below."
   ]
  },
  {
   "cell_type": "code",
   "execution_count": 1,
   "metadata": {},
   "outputs": [],
   "source": [
    "# !conda install watermark --yes -c conda-forge"
   ]
  },
  {
   "cell_type": "code",
   "execution_count": 2,
   "metadata": {},
   "outputs": [],
   "source": [
    "# !pip install watermark"
   ]
  },
  {
   "cell_type": "code",
   "execution_count": 3,
   "metadata": {},
   "outputs": [
    {
     "name": "stdout",
     "output_type": "stream",
     "text": [
      "CPython 3.6.8\n",
      "IPython 7.2.0\n",
      "\n",
      "torch 1.1.0\n",
      "torchvision 0.2.2\n",
      "numpy 1.15.4\n",
      "scipy 1.1.0\n",
      "matplotlib 3.0.2\n",
      "pandas 0.23.4\n"
     ]
    }
   ],
   "source": [
    "%load_ext watermark\n",
    "%watermark -v -p torch,torchvision,numpy,scipy,matplotlib,pandas"
   ]
  }
 ],
 "metadata": {
  "kernelspec": {
   "display_name": "Python 3",
   "language": "python",
   "name": "python3"
  },
  "language_info": {
   "codemirror_mode": {
    "name": "ipython",
    "version": 3
   },
   "file_extension": ".py",
   "mimetype": "text/x-python",
   "name": "python",
   "nbconvert_exporter": "python",
   "pygments_lexer": "ipython3",
   "version": "3.6.8"
  }
 },
 "nbformat": 4,
 "nbformat_minor": 2
}
